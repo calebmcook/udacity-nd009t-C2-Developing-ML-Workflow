{
 "cells": [
  {
   "cell_type": "markdown",
   "metadata": {},
   "source": [
    "# Deploy and monitor a machine learning workflow for Image Classification"
   ]
  },
  {
   "cell_type": "markdown",
   "metadata": {},
   "source": [
    "## Setting up this notebook\n",
    "\n",
    "Notes about the instance size and kernel setup: this notebook has been tested on\n",
    "\n",
    "1. The `Python 3 (Data Science)` kernel\n",
    "2. The `ml.t3.medium` Sagemaker notebook instance\n",
    "\n",
    "## Data Staging\n",
    "\n",
    "We'll use a sample dataset called CIFAR to simulate the challenges Scones Unlimited are facing in Image Classification. In order to start working with CIFAR we'll need to:\n",
    "\n",
    "1. Extract the data from a hosting service\n",
    "2. Transform it into a usable shape and format\n",
    "3. Load it into a production system\n",
    "\n",
    "In other words, we're going to do some simple ETL!\n",
    "\n",
    "### 1. Extract the data from the hosting service\n",
    "\n",
    "In the cell below, define a function `extract_cifar_data` that extracts python version of the CIFAR-100 dataset. The CIFAR dataaset is open source and generously hosted by the University of Toronto at: https://www.cs.toronto.edu/~kriz/cifar-100-python.tar.gz "
   ]
  },
  {
   "cell_type": "code",
   "execution_count": 1,
   "metadata": {},
   "outputs": [],
   "source": [
    "import requests\n",
    "\n",
    "def extract_cifar_data(url, filename=\"cifar.tar.gz\"):\n",
    "    \"\"\"A function for extracting the CIFAR-100 dataset and storing it as a gzipped file\n",
    "    \n",
    "    Arguments:\n",
    "    url      -- the URL where the dataset is hosted\n",
    "    filename -- the full path where the dataset will be written\n",
    "    \n",
    "    \"\"\"\n",
    "    \n",
    "    # Todo: request the data from the data url\n",
    "    # Hint: use `requests.get` method\n",
    "    r = requests.get(url)\n",
    "    \n",
    "    with open(filename, \"wb\") as file_context:\n",
    "        file_context.write(r.content)\n",
    "    return"
   ]
  },
  {
   "cell_type": "markdown",
   "metadata": {},
   "source": [
    "Let's test it out! Run the following cell and check whether a new file `cifar.tar.gz` is created in the file explorer."
   ]
  },
  {
   "cell_type": "code",
   "execution_count": 2,
   "metadata": {},
   "outputs": [],
   "source": [
    "extract_cifar_data(\"https://www.cs.toronto.edu/~kriz/cifar-100-python.tar.gz\")     "
   ]
  },
  {
   "cell_type": "markdown",
   "metadata": {},
   "source": [
    "### 2. Transform the data into a usable shape and format\n",
    "\n",
    "Clearly, distributing the data as a gzipped archive makes sense for the hosting service! It saves on bandwidth, storage, and it's a widely-used archive format. In fact, it's so widely used that the Python community ships a utility for working with them, `tarfile`, as part of its Standard Library. Execute the following cell to decompress your extracted dataset:"
   ]
  },
  {
   "cell_type": "code",
   "execution_count": 3,
   "metadata": {},
   "outputs": [],
   "source": [
    "import tarfile\n",
    "\n",
    "with tarfile.open(\"cifar.tar.gz\", \"r:gz\") as tar:\n",
    "    tar.extractall()"
   ]
  },
  {
   "cell_type": "markdown",
   "metadata": {},
   "source": [
    "A new folder `cifar-100-python` should be created, containing `meta`, `test`, and `train` files. These files are `pickles` and the [CIFAR homepage](https://www.cs.toronto.edu/~kriz/cifar.html) provides a simple script that can be used to load them. We've adapted the script below for you to run:"
   ]
  },
  {
   "cell_type": "code",
   "execution_count": 2,
   "metadata": {},
   "outputs": [],
   "source": [
    "import pickle\n",
    "\n",
    "with open(\"./cifar-100-python/meta\", \"rb\") as f:\n",
    "    dataset_meta = pickle.load(f, encoding='bytes')\n",
    "\n",
    "with open(\"./cifar-100-python/test\", \"rb\") as f:\n",
    "    dataset_test = pickle.load(f, encoding='bytes')\n",
    "\n",
    "with open(\"./cifar-100-python/train\", \"rb\") as f:\n",
    "    dataset_train = pickle.load(f, encoding='bytes')"
   ]
  },
  {
   "cell_type": "code",
   "execution_count": 3,
   "metadata": {},
   "outputs": [
    {
     "data": {
      "text/plain": [
       "dict_keys([b'filenames', b'batch_label', b'fine_labels', b'coarse_labels', b'data'])"
      ]
     },
     "execution_count": 3,
     "metadata": {},
     "output_type": "execute_result"
    }
   ],
   "source": [
    "# Feel free to explore the datasets\n",
    "dataset_train.keys()"
   ]
  },
  {
   "cell_type": "markdown",
   "metadata": {},
   "source": [
    "As documented on the homepage, `b'data'` contains rows of 3073 unsigned integers, representing three channels (red, green, and blue) for one 32x32 pixel image per row."
   ]
  },
  {
   "cell_type": "code",
   "execution_count": 59,
   "metadata": {},
   "outputs": [
    {
     "data": {
      "text/plain": [
       "array([ 97,  93,  94, ..., 113, 112, 100], dtype=uint8)"
      ]
     },
     "execution_count": 59,
     "metadata": {},
     "output_type": "execute_result"
    }
   ],
   "source": [
    "dataset_train[b'data'][90]"
   ]
  },
  {
   "cell_type": "code",
   "execution_count": 4,
   "metadata": {},
   "outputs": [
    {
     "data": {
      "text/plain": [
       "3072"
      ]
     },
     "execution_count": 4,
     "metadata": {},
     "output_type": "execute_result"
    }
   ],
   "source": [
    "32*32*3"
   ]
  },
  {
   "cell_type": "markdown",
   "metadata": {},
   "source": [
    "For a simple gut-check, let's transform one of our images. Each 1024 items in a row is a channel (red, green, then blue). Each 32 items in the channel are a row in the 32x32 image. Using python, we can stack these channels into a 32x32x3 array, and save it as a PNG file:"
   ]
  },
  {
   "cell_type": "code",
   "execution_count": 5,
   "metadata": {},
   "outputs": [],
   "source": [
    "import numpy as np\n",
    "\n",
    "# Each 1024 in a row is a channel (red, green, then blue)\n",
    "row = dataset_train[b'data'][0]\n",
    "red, green, blue = row[0:1024], row[1024:2048], row[2048:]\n",
    "\n",
    "# Each 32 items in the channel are a row in the 32x32 image\n",
    "red = red.reshape(32,32)\n",
    "green = green.reshape(32,32)\n",
    "blue = blue.reshape(32,32)\n",
    "\n",
    "# Combine the channels into a 32x32x3 image!\n",
    "combined = np.dstack((red,green,blue))"
   ]
  },
  {
   "cell_type": "markdown",
   "metadata": {},
   "source": [
    "For a more concise version, consider the following:"
   ]
  },
  {
   "cell_type": "code",
   "execution_count": 6,
   "metadata": {},
   "outputs": [],
   "source": [
    "# All in one:\n",
    "test_image = np.dstack((\n",
    "    row[0:1024].reshape(32,32),\n",
    "    row[1024:2048].reshape(32,32),\n",
    "    row[2048:].reshape(32,32)\n",
    "))"
   ]
  },
  {
   "cell_type": "code",
   "execution_count": 7,
   "metadata": {},
   "outputs": [],
   "source": [
    "%matplotlib inline"
   ]
  },
  {
   "cell_type": "code",
   "execution_count": 8,
   "metadata": {},
   "outputs": [
    {
     "data": {
      "image/png": "[encoded data removed]",
      "text/plain": [
       "<Figure size 640x480 with 1 Axes>"
      ]
     },
     "metadata": {},
     "output_type": "display_data"
    }
   ],
   "source": [
    "import matplotlib.pyplot as plt\n",
    "plt.imshow(test_image);"
   ]
  },
  {
   "cell_type": "markdown",
   "metadata": {},
   "source": [
    "Looks like a cow! Let's check the label. `dataset_meta` contains label names in order, and `dataset_train` has a list of labels for each row."
   ]
  },
  {
   "cell_type": "code",
   "execution_count": 9,
   "metadata": {},
   "outputs": [
    {
     "data": {
      "text/plain": [
       "19"
      ]
     },
     "execution_count": 9,
     "metadata": {},
     "output_type": "execute_result"
    }
   ],
   "source": [
    "dataset_train[b'fine_labels'][0]"
   ]
  },
  {
   "cell_type": "markdown",
   "metadata": {},
   "source": [
    "Our image has a label of `19`, so let's see what the 19th item is in the list of label names."
   ]
  },
  {
   "cell_type": "code",
   "execution_count": 10,
   "metadata": {},
   "outputs": [
    {
     "name": "stdout",
     "output_type": "stream",
     "text": [
      "b'cattle'\n"
     ]
    }
   ],
   "source": [
    "print(dataset_meta[b'fine_label_names'][19])"
   ]
  },
  {
   "cell_type": "markdown",
   "metadata": {},
   "source": [
    "Ok! 'cattle' sounds about right. By the way, using the previous two lines we can do:"
   ]
  },
  {
   "cell_type": "code",
   "execution_count": 11,
   "metadata": {},
   "outputs": [
    {
     "name": "stdout",
     "output_type": "stream",
     "text": [
      "b'cattle'\n"
     ]
    }
   ],
   "source": [
    "n = 0\n",
    "print(dataset_meta[b'fine_label_names'][dataset_train[b'fine_labels'][n]])"
   ]
  },
  {
   "cell_type": "markdown",
   "metadata": {},
   "source": [
    "Now we know how to check labels, is there a way that we can also check file names? `dataset_train` also contains a `b'filenames'` key. Let's see what we have here:"
   ]
  },
  {
   "cell_type": "code",
   "execution_count": 12,
   "metadata": {},
   "outputs": [
    {
     "name": "stdout",
     "output_type": "stream",
     "text": [
      "b'bos_taurus_s_000507.png'\n"
     ]
    }
   ],
   "source": [
    "print(dataset_train[b'filenames'][0])"
   ]
  },
  {
   "cell_type": "markdown",
   "metadata": {},
   "source": [
    "\"Taurus\" is the name of a subspecies of cattle, so this looks like a pretty reasonable filename. To save an image we can also do:"
   ]
  },
  {
   "cell_type": "code",
   "execution_count": 15,
   "metadata": {},
   "outputs": [],
   "source": [
    "plt.imsave(\"file.png\", test_image)"
   ]
  },
  {
   "cell_type": "markdown",
   "metadata": {},
   "source": [
    "Your new PNG file should now appear in the file explorer -- go ahead and pop it open to see!\n",
    "\n",
    "Now that you know how to reshape the images, save them as files, and capture their filenames and labels, let's just capture all the bicycles and motorcycles and save them. Scones Unlimited can use a model that tells these apart to route delivery drivers automatically.\n",
    "\n",
    "In the following cell, identify the label numbers for Bicycles and Motorcycles:"
   ]
  },
  {
   "cell_type": "code",
   "execution_count": 13,
   "metadata": {},
   "outputs": [],
   "source": [
    "import pandas as pd\n",
    "# Todo: Filter the dataset_train and dataset_meta objects to find the label numbers for Bicycle and Motorcycles"
   ]
  },
  {
   "cell_type": "markdown",
   "metadata": {},
   "source": [
    "Good job! We only need objects with label 8 and 48 -- this drastically simplifies our handling of the data! Below we construct a dataframe for you, and you can safely drop the rows that don't contain observations about bicycles and motorcycles. Fill in the missing lines below to drop all other rows:"
   ]
  },
  {
   "cell_type": "code",
   "execution_count": 53,
   "metadata": {},
   "outputs": [],
   "source": [
    "#Construct the dataframe\n",
    "df_train = pd.DataFrame({\n",
    "    \"filenames\": dataset_train[b'filenames'],\n",
    "    \"labels\": dataset_train[b'fine_labels'],\n",
    "    \"row\": range(len(dataset_train[b'filenames']))\n",
    "})\n",
    "\n",
    "# Drop all rows from df_train where label is not 8 or 48\n",
    "df_train = df_train.loc[df_train['labels'].isin([8,48])]  #TODO: Fill in\n",
    "\n",
    "# Decode df_train.filenames so they are regular strings\n",
    "df_train[\"filenames\"] = df_train[\"filenames\"].apply(\n",
    "    lambda x: x.decode(\"utf-8\")\n",
    ")\n",
    "\n",
    "df_test = pd.DataFrame({\n",
    "    \"filenames\": dataset_test[b'filenames'],\n",
    "    \"labels\": dataset_test[b'fine_labels'],\n",
    "    \"row\": range(len(dataset_test[b'filenames']))\n",
    "})\n",
    "\n",
    "# Drop all rows from df_test where label is not 8 or 48\n",
    "df_test = df_test.loc[df_test['labels'].isin([8,48])]  #TODO: Fill in#TODO: Fill in\n",
    "\n",
    "# Decode df_test.filenames so they are regular strings\n",
    "df_test[\"filenames\"] = df_test[\"filenames\"].apply(\n",
    "    lambda x: x.decode(\"utf-8\")\n",
    ")"
   ]
  },
  {
   "cell_type": "markdown",
   "metadata": {},
   "source": [
    "Now that the data is filtered for just our classes, we can save all our images."
   ]
  },
  {
   "cell_type": "code",
   "execution_count": 16,
   "metadata": {},
   "outputs": [],
   "source": [
    "!mkdir ./train\n",
    "!mkdir ./test"
   ]
  },
  {
   "cell_type": "markdown",
   "metadata": {},
   "source": [
    "In the previous sections we introduced you to several key snippets of code:\n",
    "\n",
    "1. Grabbing the image data:\n",
    "\n",
    "```python\n",
    "dataset_train[b'data'][0]\n",
    "```\n",
    "\n",
    "2. A simple idiom for stacking the image data into the right shape\n",
    "\n",
    "```python\n",
    "import numpy as np\n",
    "np.dstack((\n",
    "    row[0:1024].reshape(32,32),\n",
    "    row[1024:2048].reshape(32,32),\n",
    "    row[2048:].reshape(32,32)\n",
    "))\n",
    "```\n",
    "\n",
    "3. A simple `matplotlib` utility for saving images\n",
    "\n",
    "```python\n",
    "plt.imsave(path+row['filenames'], target)\n",
    "```\n",
    "\n",
    "Compose these together into a function that saves all the images into the `./test` and `./train` directories. Use the comments in the body of the `save_images` function below to guide your construction of the function:\n"
   ]
  },
  {
   "cell_type": "code",
   "execution_count": 60,
   "metadata": {},
   "outputs": [
    {
     "data": {
      "text/plain": [
       "range(0, 10000)"
      ]
     },
     "execution_count": 60,
     "metadata": {},
     "output_type": "execute_result"
    }
   ],
   "source": [
    "range(len(dataset_test[b'data']))"
   ]
  },
  {
   "cell_type": "code",
   "execution_count": 85,
   "metadata": {},
   "outputs": [],
   "source": [
    "import numpy as np\n",
    "\n",
    "def save_images(save_path, data):\n",
    "\n",
    "    #Grab the image data in row-major form\n",
    "    for i in range(len(data[b'data'])):\n",
    "        img = data[b'data'][i]\n",
    "        filename = data[b'filenames'][i].decode(\"utf-8\")\n",
    "\n",
    "        # Consolidated stacking/reshaping from earlier\n",
    "        target = np.dstack((\n",
    "        img[0:1024].reshape(32,32),\n",
    "        img[1024:2048].reshape(32,32),\n",
    "        img[2048:].reshape(32,32)\n",
    "            ))\n",
    "        #save image\n",
    "        plt.imsave(save_path+filename, target)"
   ]
  },
  {
   "cell_type": "code",
   "execution_count": 86,
   "metadata": {},
   "outputs": [],
   "source": [
    "## TODO: save ALL images using the save_images function\n",
    "save_images('./train/', dataset_train)"
   ]
  },
  {
   "cell_type": "code",
   "execution_count": 87,
   "metadata": {},
   "outputs": [],
   "source": [
    "save_images('./test/', dataset_test)"
   ]
  },
  {
   "cell_type": "markdown",
   "metadata": {},
   "source": [
    "### 3. Load the data\n",
    "\n",
    "Now we can load the data into S3.\n",
    "\n",
    "Using the sagemaker SDK grab the current region, execution role, and bucket."
   ]
  },
  {
   "cell_type": "code",
   "execution_count": 90,
   "metadata": {},
   "outputs": [
    {
     "name": "stdout",
     "output_type": "stream",
     "text": [
      "Default Bucket: sagemaker-us-east-1-054619787751\n",
      "AWS Region: us-east-1\n",
      "RoleArn: arn:aws:iam::054619787751:role/service-role/AmazonSageMaker-ExecutionRole-20220924T123284\n"
     ]
    }
   ],
   "source": [
    "import sagemaker\n",
    "from sagemaker.session import Session\n",
    "from sagemaker import get_execution_role\n",
    "\n",
    "session = Session()\n",
    "\n",
    "bucket = session.default_bucket() ## TODO: fill in\n",
    "print(\"Default Bucket: {}\".format(bucket))\n",
    "\n",
    "region = session.boto_region_name ## TODO: fill in\n",
    "print(\"AWS Region: {}\".format(region))\n",
    "\n",
    "role = get_execution_role() ## TODO: fill in\n",
    "print(\"RoleArn: {}\".format(role))"
   ]
  },
  {
   "cell_type": "markdown",
   "metadata": {},
   "source": [
    "With this data we can easily sync your data up into S3!"
   ]
  },
  {
   "cell_type": "code",
   "execution_count": null,
   "metadata": {},
   "outputs": [],
   "source": [
    "import os\n",
    "\n",
    "os.environ[\"DEFAULT_S3_BUCKET\"] = bucket\n",
    "!aws s3 sync ./train s3://${DEFAULT_S3_BUCKET}/train/\n",
    "!aws s3 sync ./test s3://${DEFAULT_S3_BUCKET}/test/"
   ]
  },
  {
   "cell_type": "markdown",
   "metadata": {},
   "source": [
    "And that's it! You can check the bucket and verify that the items were uploaded.\n",
    "\n",
    "## Model Training\n",
    "\n",
    "For Image Classification, Sagemaker [also expects metadata](https://docs.aws.amazon.com/sagemaker/latest/dg/image-classification.html) e.g. in the form of TSV files with labels and filepaths. We can generate these using our Pandas DataFrames from earlier:"
   ]
  },
  {
   "cell_type": "code",
   "execution_count": 92,
   "metadata": {},
   "outputs": [],
   "source": [
    "def to_metadata_file(df, prefix):\n",
    "    df[\"s3_path\"] = df[\"filenames\"]\n",
    "    df[\"labels\"] = df[\"labels\"].apply(lambda x: 0 if x==8 else 1)\n",
    "    return df[[\"row\", \"labels\", \"s3_path\"]].to_csv(\n",
    "        f\"{prefix}.lst\", sep=\"\\t\", index=False, header=False\n",
    "    )\n",
    "    \n",
    "to_metadata_file(df_train.copy(), \"train\")\n",
    "to_metadata_file(df_test.copy(), \"test\")"
   ]
  },
  {
   "cell_type": "markdown",
   "metadata": {},
   "source": [
    "We can also upload our manifest files:"
   ]
  },
  {
   "cell_type": "code",
   "execution_count": 93,
   "metadata": {},
   "outputs": [],
   "source": [
    "import boto3\n",
    "\n",
    "# Upload files\n",
    "boto3.Session().resource('s3').Bucket(\n",
    "    bucket).Object('train.lst').upload_file('./train.lst')\n",
    "boto3.Session().resource('s3').Bucket(\n",
    "    bucket).Object('test.lst').upload_file('./test.lst')"
   ]
  },
  {
   "cell_type": "markdown",
   "metadata": {},
   "source": [
    "Using the `bucket` and `region` info we can get the latest prebuilt container to run our training job, and define an output location on our s3 bucket for the model. Use the `image_uris` function from the SageMaker SDK to retrieve the latest `image-classification` image below:"
   ]
  },
  {
   "cell_type": "code",
   "execution_count": 95,
   "metadata": {},
   "outputs": [
    {
     "name": "stderr",
     "output_type": "stream",
     "text": [
      "Defaulting to the only supported framework/algorithm version: 1. Ignoring framework/algorithm version: latest.\n"
     ]
    }
   ],
   "source": [
    "# Use the image_uris function to retrieve the latest 'image-classification' image \n",
    "from sagemaker import image_uris\n",
    "algo_image = image_uris.retrieve('image-classification', region, version='latest') ## TODO: fill in\n",
    "s3_output_location = f\"s3://{bucket}/models/image_model\""
   ]
  },
  {
   "cell_type": "markdown",
   "metadata": {},
   "source": [
    "We're ready to create an estimator! Create an estimator `img_classifier_model` that uses one instance of `ml.p3.2xlarge`. Ensure that you use the output location we defined above - we'll be referring to that later!"
   ]
  },
  {
   "cell_type": "code",
   "execution_count": 105,
   "metadata": {},
   "outputs": [],
   "source": [
    "img_classifier_model=sagemaker.estimator.Estimator(\n",
    "    ## TODO: define your estimator options\n",
    "    image_uri=algo_image,\n",
    "    role=role,\n",
    "    instance_count=1,\n",
    "    instance_type='ml.p3.2xlarge',\n",
    "    volume_size=5,\n",
    "    output_path=s3_output_location,\n",
    "    sagemaker_session=session    \n",
    ")"
   ]
  },
  {
   "cell_type": "markdown",
   "metadata": {},
   "source": [
    "We can also set a few key hyperparameters and define the inputs for our model:"
   ]
  },
  {
   "cell_type": "code",
   "execution_count": 106,
   "metadata": {},
   "outputs": [],
   "source": [
    "img_classifier_model.set_hyperparameters(\n",
    "    image_shape='3,32,32', # TODO: Fill in\n",
    "    num_classes=2, # TODO: Fill in\n",
    "    num_training_samples=50000, # TODO: fill in\n",
    "    epochs=2\n",
    ")"
   ]
  },
  {
   "cell_type": "markdown",
   "metadata": {},
   "source": [
    "The `image-classification` image uses four input channels with very specific input parameters. For convenience, we've provided them below:"
   ]
  },
  {
   "cell_type": "code",
   "execution_count": 107,
   "metadata": {},
   "outputs": [],
   "source": [
    "from sagemaker.debugger import Rule, rule_configs\n",
    "from sagemaker.session import TrainingInput\n",
    "model_inputs = {\n",
    "        \"train\": sagemaker.inputs.TrainingInput(\n",
    "            s3_data=f\"s3://{bucket}/train/\",\n",
    "            content_type=\"application/x-image\"\n",
    "        ),\n",
    "        \"validation\": sagemaker.inputs.TrainingInput(\n",
    "            s3_data=f\"s3://{bucket}/test/\",\n",
    "            content_type=\"application/x-image\"\n",
    "        ),\n",
    "        \"train_lst\": sagemaker.inputs.TrainingInput(\n",
    "            s3_data=f\"s3://{bucket}/train.lst\",\n",
    "            content_type=\"application/x-image\"\n",
    "        ),\n",
    "        \"validation_lst\": sagemaker.inputs.TrainingInput(\n",
    "            s3_data=f\"s3://{bucket}/test.lst\",\n",
    "            content_type=\"application/x-image\"\n",
    "        )\n",
    "}"
   ]
  },
  {
   "cell_type": "markdown",
   "metadata": {
    "tags": []
   },
   "source": [
    "Great, now we can train the model using the model_inputs. In the cell below, call the `fit` method on our model,:"
   ]
  },
  {
   "cell_type": "code",
   "execution_count": 109,
   "metadata": {
    "collapsed": true,
    "jupyter": {
     "outputs_hidden": true
    },
    "tags": []
   },
   "outputs": [
    {
     "name": "stdout",
     "output_type": "stream",
     "text": [
      "2022-09-25 03:20:29 Starting - Starting the training job...\n",
      "2022-09-25 03:20:55 Starting - Preparing the instances for trainingProfilerReport-1664076029: InProgress\n",
      ".........\n",
      "2022-09-25 03:22:13 Downloading - Downloading input data.......................................\n",
      "2022-09-25 03:28:55 Training - Training image download completed. Training in progress.\u001b[34mDocker entrypoint called with argument(s): train\u001b[0m\n",
      "\u001b[34m[09/25/2022 03:29:01 INFO 139862774806336] Reading default configuration from /opt/amazon/lib/python3.7/site-packages/image_classification/default-input.json: {'use_pretrained_model': 0, 'num_layers': 152, 'epochs': 30, 'learning_rate': 0.1, 'lr_scheduler_factor': 0.1, 'optimizer': 'sgd', 'momentum': 0, 'weight_decay': 0.0001, 'beta_1': 0.9, 'beta_2': 0.999, 'eps': 1e-08, 'gamma': 0.9, 'mini_batch_size': 32, 'image_shape': '3,224,224', 'precision_dtype': 'float32'}\u001b[0m\n",
      "\u001b[34m[09/25/2022 03:29:01 INFO 139862774806336] Merging with provided configuration from /opt/ml/input/config/hyperparameters.json: {'epochs': '2', 'image_shape': '3,32,32', 'num_classes': '2', 'num_training_samples': '50000'}\u001b[0m\n",
      "\u001b[34m[09/25/2022 03:29:01 INFO 139862774806336] Final configuration: {'use_pretrained_model': 0, 'num_layers': 152, 'epochs': '2', 'learning_rate': 0.1, 'lr_scheduler_factor': 0.1, 'optimizer': 'sgd', 'momentum': 0, 'weight_decay': 0.0001, 'beta_1': 0.9, 'beta_2': 0.999, 'eps': 1e-08, 'gamma': 0.9, 'mini_batch_size': 32, 'image_shape': '3,32,32', 'precision_dtype': 'float32', 'num_classes': '2', 'num_training_samples': '50000'}\u001b[0m\n",
      "\u001b[34m[09/25/2022 03:29:01 INFO 139862774806336] Searching for .lst files in /opt/ml/input/data/train_lst.\u001b[0m\n",
      "\u001b[34m[09/25/2022 03:29:01 INFO 139862774806336] Creating record files for train.lst\u001b[0m\n",
      "\u001b[34m[09/25/2022 03:29:02 INFO 139862774806336] Done creating record files...\u001b[0m\n",
      "\u001b[34m[09/25/2022 03:29:02 INFO 139862774806336] Searching for .lst files in /opt/ml/input/data/validation_lst.\u001b[0m\n",
      "\u001b[34m[09/25/2022 03:29:02 INFO 139862774806336] Creating record files for test.lst\u001b[0m\n",
      "\u001b[34m[09/25/2022 03:29:02 INFO 139862774806336] Done creating record files...\u001b[0m\n",
      "\u001b[34m[09/25/2022 03:29:02 INFO 139862774806336] use_pretrained_model: 0\u001b[0m\n",
      "\u001b[34m[09/25/2022 03:29:02 INFO 139862774806336] multi_label: 0\u001b[0m\n",
      "\u001b[34m[09/25/2022 03:29:02 INFO 139862774806336] Performing random weight initialization\u001b[0m\n",
      "\u001b[34m[09/25/2022 03:29:02 INFO 139862774806336] ---- Parameters ----\u001b[0m\n",
      "\u001b[34m[09/25/2022 03:29:02 INFO 139862774806336] num_layers: 152\u001b[0m\n",
      "\u001b[34m[09/25/2022 03:29:02 INFO 139862774806336] data type: <class 'numpy.float32'>\u001b[0m\n",
      "\u001b[34m[09/25/2022 03:29:02 INFO 139862774806336] epochs: 2\u001b[0m\n",
      "\u001b[34m[09/25/2022 03:29:02 INFO 139862774806336] optimizer: sgd\u001b[0m\n",
      "\u001b[34m[09/25/2022 03:29:02 INFO 139862774806336] momentum: 0.9\u001b[0m\n",
      "\u001b[34m[09/25/2022 03:29:02 INFO 139862774806336] weight_decay: 0.0001\u001b[0m\n",
      "\u001b[34m[09/25/2022 03:29:02 INFO 139862774806336] learning_rate: 0.1\u001b[0m\n",
      "\u001b[34m[09/25/2022 03:29:02 INFO 139862774806336] num_training_samples: 50000\u001b[0m\n",
      "\u001b[34m[09/25/2022 03:29:02 INFO 139862774806336] mini_batch_size: 32\u001b[0m\n",
      "\u001b[34m[09/25/2022 03:29:02 INFO 139862774806336] image_shape: 3,32,32\u001b[0m\n",
      "\u001b[34m[09/25/2022 03:29:02 INFO 139862774806336] num_classes: 2\u001b[0m\n",
      "\u001b[34m[09/25/2022 03:29:02 INFO 139862774806336] augmentation_type: None\u001b[0m\n",
      "\u001b[34m[09/25/2022 03:29:02 INFO 139862774806336] kv_store: device\u001b[0m\n",
      "\u001b[34m[09/25/2022 03:29:02 INFO 139862774806336] checkpoint_frequency not set, will store the best model\u001b[0m\n",
      "\u001b[34m[09/25/2022 03:29:02 INFO 139862774806336] --------------------\u001b[0m\n",
      "\u001b[34m[09/25/2022 03:29:02 INFO 139862774806336] Setting number of threads: 7\u001b[0m\n",
      "\u001b[34m[03:29:12] /opt/brazil-pkg-cache/packages/AIAlgorithmsMXNet/AIAlgorithmsMXNet-1.4.x_ecl_Cuda_11.1.x.19.0/AL2_x86_64/generic-flavor/src/src/operator/nn/./cudnn/./cudnn_algoreg-inl.h:97: Running performance tests to find the best convolution algorithm, this can take a while... (setting env variable MXNET_CUDNN_AUTOTUNE_DEFAULT to 0 to disable)\u001b[0m\n",
      "\u001b[34m[09/25/2022 03:29:17 INFO 139862774806336] Epoch[0] Batch [20]#011Speed: 112.761 samples/sec#011accuracy=0.572917\u001b[0m\n",
      "\u001b[34m[09/25/2022 03:29:21 INFO 139862774806336] Epoch[0] Batch [40]#011Speed: 138.892 samples/sec#011accuracy=0.645579\u001b[0m\n",
      "\u001b[34m[09/25/2022 03:29:24 INFO 139862774806336] Epoch[0] Batch [60]#011Speed: 150.380 samples/sec#011accuracy=0.683402\u001b[0m\n",
      "\u001b[34m[09/25/2022 03:29:28 INFO 139862774806336] Epoch[0] Batch [80]#011Speed: 157.001 samples/sec#011accuracy=0.687500\u001b[0m\n",
      "\u001b[34m[09/25/2022 03:29:31 INFO 139862774806336] Epoch[0] Batch [100]#011Speed: 161.310 samples/sec#011accuracy=0.692141\u001b[0m\n",
      "\u001b[34m[09/25/2022 03:29:35 INFO 139862774806336] Epoch[0] Batch [120]#011Speed: 164.413 samples/sec#011accuracy=0.695506\u001b[0m\n",
      "\u001b[34m[09/25/2022 03:29:38 INFO 139862774806336] Epoch[0] Batch [140]#011Speed: 166.683 samples/sec#011accuracy=0.708112\u001b[0m\n",
      "\u001b[34m[09/25/2022 03:29:42 INFO 139862774806336] Epoch[0] Batch [160]#011Speed: 168.274 samples/sec#011accuracy=0.719332\u001b[0m\n",
      "\u001b[34m[09/25/2022 03:29:46 INFO 139862774806336] Epoch[0] Batch [180]#011Speed: 169.617 samples/sec#011accuracy=0.726692\u001b[0m\n",
      "\u001b[34m[09/25/2022 03:29:49 INFO 139862774806336] Epoch[0] Batch [200]#011Speed: 170.560 samples/sec#011accuracy=0.734608\u001b[0m\n",
      "\u001b[34m[09/25/2022 03:29:53 INFO 139862774806336] Epoch[0] Batch [220]#011Speed: 171.519 samples/sec#011accuracy=0.738405\u001b[0m\n",
      "\u001b[34m[09/25/2022 03:29:56 INFO 139862774806336] Epoch[0] Batch [240]#011Speed: 172.314 samples/sec#011accuracy=0.745073\u001b[0m\n",
      "\u001b[34m[09/25/2022 03:30:00 INFO 139862774806336] Epoch[0] Batch [260]#011Speed: 172.948 samples/sec#011accuracy=0.750239\u001b[0m\n",
      "\u001b[34m[09/25/2022 03:30:03 INFO 139862774806336] Epoch[0] Batch [280]#011Speed: 173.169 samples/sec#011accuracy=0.755560\u001b[0m\n",
      "\u001b[34m[09/25/2022 03:30:07 INFO 139862774806336] Epoch[0] Batch [300]#011Speed: 173.444 samples/sec#011accuracy=0.760174\u001b[0m\n",
      "\u001b[34m[09/25/2022 03:30:10 INFO 139862774806336] Epoch[0] Batch [320]#011Speed: 173.876 samples/sec#011accuracy=0.764895\u001b[0m\n",
      "\u001b[34m[09/25/2022 03:30:14 INFO 139862774806336] Epoch[0] Batch [340]#011Speed: 174.372 samples/sec#011accuracy=0.770345\u001b[0m\n",
      "\u001b[34m[09/25/2022 03:30:18 INFO 139862774806336] Epoch[0] Batch [360]#011Speed: 174.782 samples/sec#011accuracy=0.774758\u001b[0m\n",
      "\u001b[34m[09/25/2022 03:30:21 INFO 139862774806336] Epoch[0] Batch [380]#011Speed: 175.122 samples/sec#011accuracy=0.777559\u001b[0m\n",
      "\u001b[34m[09/25/2022 03:30:25 INFO 139862774806336] Epoch[0] Batch [400]#011Speed: 175.469 samples/sec#011accuracy=0.782341\u001b[0m\n",
      "\u001b[34m[09/25/2022 03:30:28 INFO 139862774806336] Epoch[0] Batch [420]#011Speed: 175.804 samples/sec#011accuracy=0.787040\u001b[0m\n",
      "\u001b[34m[09/25/2022 03:30:32 INFO 139862774806336] Epoch[0] Batch [440]#011Speed: 176.027 samples/sec#011accuracy=0.791171\u001b[0m\n",
      "\u001b[34m[09/25/2022 03:30:35 INFO 139862774806336] Epoch[0] Batch [460]#011Speed: 176.278 samples/sec#011accuracy=0.795011\u001b[0m\n",
      "\u001b[34m[09/25/2022 03:30:39 INFO 139862774806336] Epoch[0] Batch [480]#011Speed: 176.459 samples/sec#011accuracy=0.799311\u001b[0m\n",
      "\u001b[34m[09/25/2022 03:30:42 INFO 139862774806336] Epoch[0] Batch [500]#011Speed: 176.676 samples/sec#011accuracy=0.803019\u001b[0m\n",
      "\u001b[34m[09/25/2022 03:30:46 INFO 139862774806336] Epoch[0] Batch [520]#011Speed: 176.911 samples/sec#011accuracy=0.806322\u001b[0m\n",
      "\u001b[34m[09/25/2022 03:30:49 INFO 139862774806336] Epoch[0] Batch [540]#011Speed: 177.081 samples/sec#011accuracy=0.810016\u001b[0m\n",
      "\u001b[34m[09/25/2022 03:30:53 INFO 139862774806336] Epoch[0] Batch [560]#011Speed: 177.280 samples/sec#011accuracy=0.813893\u001b[0m\n",
      "\u001b[34m[09/25/2022 03:30:56 INFO 139862774806336] Epoch[0] Batch [580]#011Speed: 177.456 samples/sec#011accuracy=0.816642\u001b[0m\n",
      "\u001b[34m[09/25/2022 03:31:00 INFO 139862774806336] Epoch[0] Batch [600]#011Speed: 177.562 samples/sec#011accuracy=0.819884\u001b[0m\n",
      "\u001b[34m[09/25/2022 03:31:03 INFO 139862774806336] Epoch[0] Batch [620]#011Speed: 177.588 samples/sec#011accuracy=0.823219\u001b[0m\n",
      "\u001b[34m[09/25/2022 03:31:07 INFO 139862774806336] Epoch[0] Batch [640]#011Speed: 177.607 samples/sec#011accuracy=0.826638\u001b[0m\n",
      "\u001b[34m[09/25/2022 03:31:10 INFO 139862774806336] Epoch[0] Batch [660]#011Speed: 177.732 samples/sec#011accuracy=0.829047\u001b[0m\n",
      "\u001b[34m[09/25/2022 03:31:14 INFO 139862774806336] Epoch[0] Batch [680]#011Speed: 177.759 samples/sec#011accuracy=0.832140\u001b[0m\n",
      "\u001b[34m[09/25/2022 03:31:18 INFO 139862774806336] Epoch[0] Batch [700]#011Speed: 177.864 samples/sec#011accuracy=0.835414\u001b[0m\n",
      "\u001b[34m[09/25/2022 03:31:21 INFO 139862774806336] Epoch[0] Batch [720]#011Speed: 177.966 samples/sec#011accuracy=0.837725\u001b[0m\n",
      "\u001b[34m[09/25/2022 03:31:25 INFO 139862774806336] Epoch[0] Batch [740]#011Speed: 178.077 samples/sec#011accuracy=0.840292\u001b[0m\n",
      "\u001b[34m[09/25/2022 03:31:28 INFO 139862774806336] Epoch[0] Batch [760]#011Speed: 178.180 samples/sec#011accuracy=0.842888\u001b[0m\n",
      "\u001b[34m[09/25/2022 03:31:32 INFO 139862774806336] Epoch[0] Batch [780]#011Speed: 178.260 samples/sec#011accuracy=0.846151\u001b[0m\n",
      "\u001b[34m[09/25/2022 03:31:35 INFO 139862774806336] Epoch[0] Batch [800]#011Speed: 178.316 samples/sec#011accuracy=0.849329\u001b[0m\n",
      "\u001b[34m[09/25/2022 03:31:39 INFO 139862774806336] Epoch[0] Batch [820]#011Speed: 178.443 samples/sec#011accuracy=0.851819\u001b[0m\n",
      "\u001b[34m[09/25/2022 03:31:42 INFO 139862774806336] Epoch[0] Batch [840]#011Speed: 178.545 samples/sec#011accuracy=0.854526\u001b[0m\n",
      "\u001b[34m[09/25/2022 03:31:46 INFO 139862774806336] Epoch[0] Batch [860]#011Speed: 178.630 samples/sec#011accuracy=0.857107\u001b[0m\n",
      "\u001b[34m[09/25/2022 03:31:49 INFO 139862774806336] Epoch[0] Batch [880]#011Speed: 178.724 samples/sec#011accuracy=0.860031\u001b[0m\n",
      "\u001b[34m[09/25/2022 03:31:53 INFO 139862774806336] Epoch[0] Batch [900]#011Speed: 178.801 samples/sec#011accuracy=0.862618\u001b[0m\n",
      "\u001b[34m[09/25/2022 03:31:56 INFO 139862774806336] Epoch[0] Batch [920]#011Speed: 178.859 samples/sec#011accuracy=0.865160\u001b[0m\n",
      "\u001b[34m[09/25/2022 03:32:00 INFO 139862774806336] Epoch[0] Batch [940]#011Speed: 178.904 samples/sec#011accuracy=0.867329\u001b[0m\n",
      "\u001b[34m[09/25/2022 03:32:03 INFO 139862774806336] Epoch[0] Batch [960]#011Speed: 178.910 samples/sec#011accuracy=0.869277\u001b[0m\n",
      "\u001b[34m[09/25/2022 03:32:07 INFO 139862774806336] Epoch[0] Batch [980]#011Speed: 178.871 samples/sec#011accuracy=0.871177\u001b[0m\n",
      "\u001b[34m[09/25/2022 03:32:10 INFO 139862774806336] Epoch[0] Batch [1000]#011Speed: 178.897 samples/sec#011accuracy=0.873221\u001b[0m\n",
      "\u001b[34m[09/25/2022 03:32:14 INFO 139862774806336] Epoch[0] Batch [1020]#011Speed: 178.919 samples/sec#011accuracy=0.875122\u001b[0m\n",
      "\u001b[34m[09/25/2022 03:32:18 INFO 139862774806336] Epoch[0] Batch [1040]#011Speed: 178.984 samples/sec#011accuracy=0.877191\u001b[0m\n",
      "\u001b[34m[09/25/2022 03:32:21 INFO 139862774806336] Epoch[0] Batch [1060]#011Speed: 179.055 samples/sec#011accuracy=0.879271\u001b[0m\n",
      "\u001b[34m[09/25/2022 03:32:25 INFO 139862774806336] Epoch[0] Batch [1080]#011Speed: 179.118 samples/sec#011accuracy=0.881157\u001b[0m\n",
      "\u001b[34m[09/25/2022 03:32:28 INFO 139862774806336] Epoch[0] Batch [1100]#011Speed: 179.172 samples/sec#011accuracy=0.883004\u001b[0m\n",
      "\u001b[34m[09/25/2022 03:32:32 INFO 139862774806336] Epoch[0] Batch [1120]#011Speed: 179.213 samples/sec#011accuracy=0.884952\u001b[0m\n",
      "\u001b[34m[09/25/2022 03:32:35 INFO 139862774806336] Epoch[0] Batch [1140]#011Speed: 179.236 samples/sec#011accuracy=0.886722\u001b[0m\n",
      "\u001b[34m[09/25/2022 03:32:39 INFO 139862774806336] Epoch[0] Batch [1160]#011Speed: 179.294 samples/sec#011accuracy=0.888485\u001b[0m\n",
      "\u001b[34m[09/25/2022 03:32:42 INFO 139862774806336] Epoch[0] Batch [1180]#011Speed: 179.343 samples/sec#011accuracy=0.889844\u001b[0m\n",
      "\u001b[34m[09/25/2022 03:32:46 INFO 139862774806336] Epoch[0] Batch [1200]#011Speed: 179.381 samples/sec#011accuracy=0.891445\u001b[0m\n",
      "\u001b[34m[09/25/2022 03:32:49 INFO 139862774806336] Epoch[0] Batch [1220]#011Speed: 179.422 samples/sec#011accuracy=0.893044\u001b[0m\n",
      "\u001b[34m[09/25/2022 03:32:53 INFO 139862774806336] Epoch[0] Batch [1240]#011Speed: 179.437 samples/sec#011accuracy=0.894390\u001b[0m\n",
      "\u001b[34m[09/25/2022 03:32:56 INFO 139862774806336] Epoch[0] Batch [1260]#011Speed: 179.471 samples/sec#011accuracy=0.895619\u001b[0m\n",
      "\u001b[34m[09/25/2022 03:33:00 INFO 139862774806336] Epoch[0] Batch [1280]#011Speed: 179.532 samples/sec#011accuracy=0.896638\u001b[0m\n",
      "\u001b[34m[09/25/2022 03:33:03 INFO 139862774806336] Epoch[0] Batch [1300]#011Speed: 179.503 samples/sec#011accuracy=0.897867\u001b[0m\n",
      "\u001b[34m[09/25/2022 03:33:07 INFO 139862774806336] Epoch[0] Batch [1320]#011Speed: 179.466 samples/sec#011accuracy=0.898988\u001b[0m\n",
      "\u001b[34m[09/25/2022 03:33:10 INFO 139862774806336] Epoch[0] Batch [1340]#011Speed: 179.517 samples/sec#011accuracy=0.900121\u001b[0m\n",
      "\u001b[34m[09/25/2022 03:33:14 INFO 139862774806336] Epoch[0] Batch [1360]#011Speed: 179.565 samples/sec#011accuracy=0.901497\u001b[0m\n",
      "\u001b[34m[09/25/2022 03:33:17 INFO 139862774806336] Epoch[0] Batch [1380]#011Speed: 179.587 samples/sec#011accuracy=0.902810\u001b[0m\n",
      "\u001b[34m[09/25/2022 03:33:21 INFO 139862774806336] Epoch[0] Batch [1400]#011Speed: 179.614 samples/sec#011accuracy=0.903953\u001b[0m\n",
      "\u001b[34m[09/25/2022 03:33:25 INFO 139862774806336] Epoch[0] Batch [1420]#011Speed: 179.644 samples/sec#011accuracy=0.905128\u001b[0m\n",
      "\u001b[34m[09/25/2022 03:33:28 INFO 139862774806336] Epoch[0] Batch [1440]#011Speed: 179.671 samples/sec#011accuracy=0.906272\u001b[0m\n",
      "\u001b[34m[09/25/2022 03:33:32 INFO 139862774806336] Epoch[0] Batch [1460]#011Speed: 179.710 samples/sec#011accuracy=0.907384\u001b[0m\n",
      "\u001b[34m[09/25/2022 03:33:35 INFO 139862774806336] Epoch[0] Batch [1480]#011Speed: 179.725 samples/sec#011accuracy=0.908613\u001b[0m\n",
      "\u001b[34m[09/25/2022 03:33:39 INFO 139862774806336] Epoch[0] Batch [1500]#011Speed: 179.749 samples/sec#011accuracy=0.909831\u001b[0m\n",
      "\u001b[34m[09/25/2022 03:33:42 INFO 139862774806336] Epoch[0] Batch [1520]#011Speed: 179.778 samples/sec#011accuracy=0.910996\u001b[0m\n",
      "\u001b[34m[09/25/2022 03:33:46 INFO 139862774806336] Epoch[0] Batch [1540]#011Speed: 179.804 samples/sec#011accuracy=0.912090\u001b[0m\n",
      "\u001b[34m[09/25/2022 03:33:49 INFO 139862774806336] Epoch[0] Batch [1560]#011Speed: 179.837 samples/sec#011accuracy=0.913197\u001b[0m\n",
      "\u001b[34m[09/25/2022 03:33:49 INFO 139862774806336] Epoch[0] Train-accuracy=0.913152\u001b[0m\n",
      "\u001b[34m[09/25/2022 03:33:49 INFO 139862774806336] Epoch[0] Time cost=277.760\u001b[0m\n",
      "\u001b[34m[09/25/2022 03:33:50 INFO 139862774806336] Epoch[0] Validation-accuracy=0.880208\u001b[0m\n",
      "\u001b[34m[09/25/2022 03:33:50 INFO 139862774806336] Storing the best model with validation accuracy: 0.880208\u001b[0m\n",
      "\u001b[34m[09/25/2022 03:33:51 INFO 139862774806336] Saved checkpoint to \"/opt/ml/model/image-classification-0001.params\"\u001b[0m\n",
      "\u001b[34m[09/25/2022 03:33:54 INFO 139862774806336] Epoch[1] Batch [20]#011Speed: 173.245 samples/sec#011accuracy=0.967262\u001b[0m\n",
      "\u001b[34m[09/25/2022 03:33:58 INFO 139862774806336] Epoch[1] Batch [40]#011Speed: 178.060 samples/sec#011accuracy=0.957317\u001b[0m\n",
      "\u001b[34m[09/25/2022 03:34:01 INFO 139862774806336] Epoch[1] Batch [60]#011Speed: 178.484 samples/sec#011accuracy=0.961578\u001b[0m\n",
      "\u001b[34m[09/25/2022 03:34:05 INFO 139862774806336] Epoch[1] Batch [80]#011Speed: 177.373 samples/sec#011accuracy=0.970293\u001b[0m\n",
      "\u001b[34m[09/25/2022 03:34:08 INFO 139862774806336] Epoch[1] Batch [100]#011Speed: 178.296 samples/sec#011accuracy=0.974319\u001b[0m\n",
      "\u001b[34m[09/25/2022 03:34:12 INFO 139862774806336] Epoch[1] Batch [120]#011Speed: 178.982 samples/sec#011accuracy=0.978564\u001b[0m\n",
      "\u001b[34m[09/25/2022 03:34:16 INFO 139862774806336] Epoch[1] Batch [140]#011Speed: 179.249 samples/sec#011accuracy=0.981383\u001b[0m\n",
      "\u001b[34m[09/25/2022 03:34:19 INFO 139862774806336] Epoch[1] Batch [160]#011Speed: 179.586 samples/sec#011accuracy=0.983696\u001b[0m\n",
      "\u001b[34m[09/25/2022 03:34:23 INFO 139862774806336] Epoch[1] Batch [180]#011Speed: 179.851 samples/sec#011accuracy=0.985497\u001b[0m\n",
      "\u001b[34m[09/25/2022 03:34:26 INFO 139862774806336] Epoch[1] Batch [200]#011Speed: 179.945 samples/sec#011accuracy=0.986785\u001b[0m\n",
      "\u001b[34m[09/25/2022 03:34:30 INFO 139862774806336] Epoch[1] Batch [220]#011Speed: 180.209 samples/sec#011accuracy=0.987981\u001b[0m\n",
      "\u001b[34m[09/25/2022 03:34:33 INFO 139862774806336] Epoch[1] Batch [240]#011Speed: 180.450 samples/sec#011accuracy=0.988460\u001b[0m\n",
      "\u001b[34m[09/25/2022 03:34:37 INFO 139862774806336] Epoch[1] Batch [260]#011Speed: 180.503 samples/sec#011accuracy=0.988985\u001b[0m\n",
      "\u001b[34m[09/25/2022 03:34:40 INFO 139862774806336] Epoch[1] Batch [280]#011Speed: 180.600 samples/sec#011accuracy=0.989769\u001b[0m\n",
      "\u001b[34m[09/25/2022 03:34:44 INFO 139862774806336] Epoch[1] Batch [300]#011Speed: 180.664 samples/sec#011accuracy=0.990449\u001b[0m\n",
      "\u001b[34m[09/25/2022 03:34:47 INFO 139862774806336] Epoch[1] Batch [320]#011Speed: 180.870 samples/sec#011accuracy=0.990946\u001b[0m\n",
      "\u001b[34m[09/25/2022 03:34:51 INFO 139862774806336] Epoch[1] Batch [340]#011Speed: 180.818 samples/sec#011accuracy=0.991386\u001b[0m\n",
      "\u001b[34m[09/25/2022 03:34:54 INFO 139862774806336] Epoch[1] Batch [360]#011Speed: 180.952 samples/sec#011accuracy=0.991603\u001b[0m\n",
      "\u001b[34m[09/25/2022 03:34:58 INFO 139862774806336] Epoch[1] Batch [380]#011Speed: 181.059 samples/sec#011accuracy=0.991470\u001b[0m\n",
      "\u001b[34m[09/25/2022 03:35:01 INFO 139862774806336] Epoch[1] Batch [400]#011Speed: 180.936 samples/sec#011accuracy=0.990960\u001b[0m\n",
      "\u001b[34m[09/25/2022 03:35:05 INFO 139862774806336] Epoch[1] Batch [420]#011Speed: 180.773 samples/sec#011accuracy=0.990425\u001b[0m\n",
      "\u001b[34m[09/25/2022 03:35:08 INFO 139862774806336] Epoch[1] Batch [440]#011Speed: 180.692 samples/sec#011accuracy=0.990575\u001b[0m\n",
      "\u001b[34m[09/25/2022 03:35:12 INFO 139862774806336] Epoch[1] Batch [460]#011Speed: 180.752 samples/sec#011accuracy=0.990713\u001b[0m\n",
      "\u001b[34m[09/25/2022 03:35:15 INFO 139862774806336] Epoch[1] Batch [480]#011Speed: 180.829 samples/sec#011accuracy=0.990904\u001b[0m\n",
      "\u001b[34m[09/25/2022 03:35:19 INFO 139862774806336] Epoch[1] Batch [500]#011Speed: 180.921 samples/sec#011accuracy=0.991018\u001b[0m\n",
      "\u001b[34m[09/25/2022 03:35:22 INFO 139862774806336] Epoch[1] Batch [520]#011Speed: 180.958 samples/sec#011accuracy=0.991243\u001b[0m\n",
      "\u001b[34m[09/25/2022 03:35:26 INFO 139862774806336] Epoch[1] Batch [540]#011Speed: 181.003 samples/sec#011accuracy=0.991220\u001b[0m\n",
      "\u001b[34m[09/25/2022 03:35:30 INFO 139862774806336] Epoch[1] Batch [560]#011Speed: 181.066 samples/sec#011accuracy=0.991254\u001b[0m\n",
      "\u001b[34m[09/25/2022 03:35:33 INFO 139862774806336] Epoch[1] Batch [580]#011Speed: 181.060 samples/sec#011accuracy=0.991556\u001b[0m\n",
      "\u001b[34m[09/25/2022 03:35:37 INFO 139862774806336] Epoch[1] Batch [600]#011Speed: 181.130 samples/sec#011accuracy=0.991785\u001b[0m\n",
      "\u001b[34m[09/25/2022 03:35:40 INFO 139862774806336] Epoch[1] Batch [620]#011Speed: 181.180 samples/sec#011accuracy=0.991948\u001b[0m\n",
      "\u001b[34m[09/25/2022 03:35:44 INFO 139862774806336] Epoch[1] Batch [640]#011Speed: 181.201 samples/sec#011accuracy=0.992102\u001b[0m\n",
      "\u001b[34m[09/25/2022 03:35:47 INFO 139862774806336] Epoch[1] Batch [660]#011Speed: 181.252 samples/sec#011accuracy=0.992010\u001b[0m\n",
      "\u001b[34m[09/25/2022 03:35:51 INFO 139862774806336] Epoch[1] Batch [680]#011Speed: 181.265 samples/sec#011accuracy=0.991694\u001b[0m\n",
      "\u001b[34m[09/25/2022 03:35:54 INFO 139862774806336] Epoch[1] Batch [700]#011Speed: 181.170 samples/sec#011accuracy=0.991887\u001b[0m\n",
      "\u001b[34m[09/25/2022 03:35:58 INFO 139862774806336] Epoch[1] Batch [720]#011Speed: 180.991 samples/sec#011accuracy=0.991982\u001b[0m\n",
      "\u001b[34m[09/25/2022 03:36:01 INFO 139862774806336] Epoch[1] Batch [740]#011Speed: 180.931 samples/sec#011accuracy=0.992198\u001b[0m\n",
      "\u001b[34m[09/25/2022 03:36:05 INFO 139862774806336] Epoch[1] Batch [760]#011Speed: 180.791 samples/sec#011accuracy=0.992403\u001b[0m\n",
      "\u001b[34m[09/25/2022 03:36:09 INFO 139862774806336] Epoch[1] Batch [780]#011Speed: 180.847 samples/sec#011accuracy=0.992598\u001b[0m\n",
      "\u001b[34m[09/25/2022 03:36:12 INFO 139862774806336] Epoch[1] Batch [800]#011Speed: 180.878 samples/sec#011accuracy=0.992782\u001b[0m\n",
      "\u001b[34m[09/25/2022 03:36:16 INFO 139862774806336] Epoch[1] Batch [820]#011Speed: 180.890 samples/sec#011accuracy=0.992958\u001b[0m\n",
      "\u001b[34m[09/25/2022 03:36:19 INFO 139862774806336] Epoch[1] Batch [840]#011Speed: 180.948 samples/sec#011accuracy=0.993126\u001b[0m\n",
      "\u001b[34m[09/25/2022 03:36:23 INFO 139862774806336] Epoch[1] Batch [860]#011Speed: 180.965 samples/sec#011accuracy=0.993285\u001b[0m\n",
      "\u001b[34m[09/25/2022 03:36:26 INFO 139862774806336] Epoch[1] Batch [880]#011Speed: 180.975 samples/sec#011accuracy=0.993438\u001b[0m\n",
      "\u001b[34m[09/25/2022 03:36:30 INFO 139862774806336] Epoch[1] Batch [900]#011Speed: 180.987 samples/sec#011accuracy=0.993584\u001b[0m\n",
      "\u001b[34m[09/25/2022 03:36:33 INFO 139862774806336] Epoch[1] Batch [920]#011Speed: 180.991 samples/sec#011accuracy=0.993723\u001b[0m\n",
      "\u001b[34m[09/25/2022 03:36:37 INFO 139862774806336] Epoch[1] Batch [940]#011Speed: 180.995 samples/sec#011accuracy=0.993856\u001b[0m\n",
      "\u001b[34m[09/25/2022 03:36:40 INFO 139862774806336] Epoch[1] Batch [960]#011Speed: 180.997 samples/sec#011accuracy=0.993984\u001b[0m\n",
      "\u001b[34m[09/25/2022 03:36:44 INFO 139862774806336] Epoch[1] Batch [980]#011Speed: 181.026 samples/sec#011accuracy=0.994075\u001b[0m\n",
      "\u001b[34m[09/25/2022 03:36:47 INFO 139862774806336] Epoch[1] Batch [1000]#011Speed: 181.090 samples/sec#011accuracy=0.994100\u001b[0m\n",
      "\u001b[34m[09/25/2022 03:36:51 INFO 139862774806336] Epoch[1] Batch [1020]#011Speed: 181.118 samples/sec#011accuracy=0.994185\u001b[0m\n",
      "\u001b[34m[09/25/2022 03:36:54 INFO 139862774806336] Epoch[1] Batch [1040]#011Speed: 181.157 samples/sec#011accuracy=0.994086\u001b[0m\n",
      "\u001b[34m[09/25/2022 03:36:58 INFO 139862774806336] Epoch[1] Batch [1060]#011Speed: 181.169 samples/sec#011accuracy=0.994139\u001b[0m\n",
      "\u001b[34m[09/25/2022 03:37:01 INFO 139862774806336] Epoch[1] Batch [1080]#011Speed: 181.134 samples/sec#011accuracy=0.994218\u001b[0m\n",
      "\u001b[34m[09/25/2022 03:37:05 INFO 139862774806336] Epoch[1] Batch [1100]#011Speed: 180.991 samples/sec#011accuracy=0.994323\u001b[0m\n",
      "\u001b[34m[09/25/2022 03:37:09 INFO 139862774806336] Epoch[1] Batch [1120]#011Speed: 181.007 samples/sec#011accuracy=0.994425\u001b[0m\n",
      "\u001b[34m[09/25/2022 03:37:12 INFO 139862774806336] Epoch[1] Batch [1140]#011Speed: 181.018 samples/sec#011accuracy=0.994522\u001b[0m\n",
      "\u001b[34m[09/25/2022 03:37:16 INFO 139862774806336] Epoch[1] Batch [1160]#011Speed: 181.018 samples/sec#011accuracy=0.994617\u001b[0m\n",
      "\u001b[34m[09/25/2022 03:37:19 INFO 139862774806336] Epoch[1] Batch [1180]#011Speed: 181.044 samples/sec#011accuracy=0.994681\u001b[0m\n",
      "\u001b[34m[09/25/2022 03:37:23 INFO 139862774806336] Epoch[1] Batch [1200]#011Speed: 181.068 samples/sec#011accuracy=0.994640\u001b[0m\n",
      "\u001b[34m[09/25/2022 03:37:26 INFO 139862774806336] Epoch[1] Batch [1220]#011Speed: 181.092 samples/sec#011accuracy=0.994676\u001b[0m\n",
      "\u001b[34m[09/25/2022 03:37:30 INFO 139862774806336] Epoch[1] Batch [1240]#011Speed: 181.100 samples/sec#011accuracy=0.994737\u001b[0m\n",
      "\u001b[34m[09/25/2022 03:37:33 INFO 139862774806336] Epoch[1] Batch [1260]#011Speed: 181.145 samples/sec#011accuracy=0.994771\u001b[0m\n",
      "\u001b[34m[09/25/2022 03:37:37 INFO 139862774806336] Epoch[1] Batch [1280]#011Speed: 181.164 samples/sec#011accuracy=0.994706\u001b[0m\n",
      "\u001b[34m[09/25/2022 03:37:40 INFO 139862774806336] Epoch[1] Batch [1300]#011Speed: 181.185 samples/sec#011accuracy=0.994668\u001b[0m\n",
      "\u001b[34m[09/25/2022 03:37:44 INFO 139862774806336] Epoch[1] Batch [1320]#011Speed: 181.177 samples/sec#011accuracy=0.994583\u001b[0m\n",
      "\u001b[34m[09/25/2022 03:37:47 INFO 139862774806336] Epoch[1] Batch [1340]#011Speed: 181.205 samples/sec#011accuracy=0.994477\u001b[0m\n",
      "\u001b[34m[09/25/2022 03:37:51 INFO 139862774806336] Epoch[1] Batch [1360]#011Speed: 181.223 samples/sec#011accuracy=0.994535\u001b[0m\n",
      "\u001b[34m[09/25/2022 03:37:54 INFO 139862774806336] Epoch[1] Batch [1380]#011Speed: 181.239 samples/sec#011accuracy=0.994569\u001b[0m\n",
      "\u001b[34m[09/25/2022 03:37:58 INFO 139862774806336] Epoch[1] Batch [1400]#011Speed: 181.264 samples/sec#011accuracy=0.994580\u001b[0m\n",
      "\u001b[34m[09/25/2022 03:38:01 INFO 139862774806336] Epoch[1] Batch [1420]#011Speed: 181.248 samples/sec#011accuracy=0.994612\u001b[0m\n",
      "\u001b[34m[09/25/2022 03:38:05 INFO 139862774806336] Epoch[1] Batch [1440]#011Speed: 181.151 samples/sec#011accuracy=0.994600\u001b[0m\n",
      "\u001b[34m[09/25/2022 03:38:08 INFO 139862774806336] Epoch[1] Batch [1460]#011Speed: 181.157 samples/sec#011accuracy=0.994503\u001b[0m\n",
      "\u001b[34m[09/25/2022 03:38:12 INFO 139862774806336] Epoch[1] Batch [1480]#011Speed: 181.176 samples/sec#011accuracy=0.994387\u001b[0m\n",
      "\u001b[34m[09/25/2022 03:38:15 INFO 139862774806336] Epoch[1] Batch [1500]#011Speed: 181.200 samples/sec#011accuracy=0.994212\u001b[0m\n",
      "\u001b[34m[09/25/2022 03:38:19 INFO 139862774806336] Epoch[1] Batch [1520]#011Speed: 181.201 samples/sec#011accuracy=0.994124\u001b[0m\n",
      "\u001b[34m[09/25/2022 03:38:22 INFO 139862774806336] Epoch[1] Batch [1540]#011Speed: 181.227 samples/sec#011accuracy=0.994079\u001b[0m\n",
      "\u001b[34m[09/25/2022 03:38:26 INFO 139862774806336] Epoch[1] Batch [1560]#011Speed: 181.249 samples/sec#011accuracy=0.994074\u001b[0m\n",
      "\u001b[34m[09/25/2022 03:38:26 INFO 139862774806336] Epoch[1] Train-accuracy=0.994078\u001b[0m\n",
      "\u001b[34m[09/25/2022 03:38:26 INFO 139862774806336] Epoch[1] Time cost=275.599\u001b[0m\n",
      "\u001b[34m[09/25/2022 03:38:27 INFO 139862774806336] Epoch[1] Validation-accuracy=0.838542\u001b[0m\n",
      "\n",
      "2022-09-25 03:38:36 Uploading - Uploading generated training model\n",
      "2022-09-25 03:39:18 Completed - Training job completed\n",
      "Training seconds: 1026\n",
      "Billable seconds: 1026\n"
     ]
    }
   ],
   "source": [
    "## TODO: train your model\n",
    "img_classifier_model.fit(inputs=model_inputs)"
   ]
  },
  {
   "cell_type": "markdown",
   "metadata": {},
   "source": [
    "If all goes well, you'll end up with a model topping out above `.8` validation accuracy. With only 1000 training samples in the CIFAR dataset, that's pretty good. We could definitely pursue data augmentation & gathering more samples to help us improve further, but for now let's proceed to deploy our model.\n",
    "\n",
    "### Getting ready to deploy\n",
    "\n",
    "To begin with, let's configure Model Monitor to track our deployment. We'll define a `DataCaptureConfig` below:"
   ]
  },
  {
   "cell_type": "code",
   "execution_count": 110,
   "metadata": {},
   "outputs": [],
   "source": [
    "from sagemaker.model_monitor import DataCaptureConfig\n",
    "\n",
    "data_capture_config = DataCaptureConfig(\n",
    "    ## TODO: Set config options\n",
    "    enable_capture=True,\n",
    "    sampling_percentage=100,\n",
    "    destination_s3_uri=f\"s3://{bucket}/data_capture\"\n",
    ")"
   ]
  },
  {
   "cell_type": "markdown",
   "metadata": {},
   "source": [
    "Note the `destination_s3_uri` parameter: At the end of the project, we can explore the `data_capture` directory in S3 to find crucial data about the inputs and outputs Model Monitor has observed on our model endpoint over time.\n",
    "\n",
    "With that done, deploy your model on a single `ml.m5.xlarge` instance with the data capture config attached:"
   ]
  },
  {
   "cell_type": "code",
   "execution_count": 111,
   "metadata": {},
   "outputs": [
    {
     "name": "stdout",
     "output_type": "stream",
     "text": [
      "-------------------!image-classification-2022-09-25-03-50-34-090\n"
     ]
    }
   ],
   "source": [
    "deployment = img_classifier_model.deploy(\n",
    "    ## TODO: fill in deployment options\n",
    "    initial_instance_count=1,\n",
    "    instance_type='ml.m4.xlarge',\n",
    "    data_capture_config=data_capture_config\n",
    "    )\n",
    "\n",
    "endpoint = deployment.endpoint_name\n",
    "print(endpoint)"
   ]
  },
  {
   "cell_type": "code",
   "execution_count": 116,
   "metadata": {},
   "outputs": [
    {
     "data": {
      "text/plain": [
       "'image-classification-2022-09-25-03-50-34-090'"
      ]
     },
     "execution_count": 116,
     "metadata": {},
     "output_type": "execute_result"
    }
   ],
   "source": [
    "deployment.endpoint_name"
   ]
  },
  {
   "cell_type": "markdown",
   "metadata": {},
   "source": [
    "Note the endpoint name for later as well.\n",
    "\n",
    "Next, instantiate a Predictor:"
   ]
  },
  {
   "cell_type": "code",
   "execution_count": 112,
   "metadata": {},
   "outputs": [],
   "source": [
    "from sagemaker.predictor import Predictor\n",
    "predictor = Predictor(\"image-classification-2022-09-25-03-50-34-090\") ## TODO: fill in"
   ]
  },
  {
   "cell_type": "code",
   "execution_count": 118,
   "metadata": {
    "collapsed": true,
    "jupyter": {
     "outputs_hidden": true
    },
    "tags": []
   },
   "outputs": [
    {
     "name": "stdout",
     "output_type": "stream",
     "text": [
      "Help on Predictor in module sagemaker.predictor object:\n",
      "\n",
      "class Predictor(PredictorBase)\n",
      " |  Predictor(endpoint_name, sagemaker_session=None, serializer=<sagemaker.serializers.IdentitySerializer object at 0x7f413653d090>, deserializer=<sagemaker.deserializers.BytesDeserializer object at 0x7f413653d0d0>, **kwargs)\n",
      " |  \n",
      " |  Make prediction requests to an Amazon SageMaker endpoint.\n",
      " |  \n",
      " |  Method resolution order:\n",
      " |      Predictor\n",
      " |      PredictorBase\n",
      " |      abc.ABC\n",
      " |      builtins.object\n",
      " |  \n",
      " |  Methods defined here:\n",
      " |  \n",
      " |  __init__(self, endpoint_name, sagemaker_session=None, serializer=<sagemaker.serializers.IdentitySerializer object at 0x7f413653d090>, deserializer=<sagemaker.deserializers.BytesDeserializer object at 0x7f413653d0d0>, **kwargs)\n",
      " |      Initialize a ``Predictor``.\n",
      " |      \n",
      " |      Behavior for serialization of input data and deserialization of\n",
      " |      result data can be configured through initializer arguments. If not\n",
      " |      specified, a sequence of bytes is expected and the API sends it in the\n",
      " |      request body without modifications. In response, the API returns the\n",
      " |      sequence of bytes from the prediction result without any modifications.\n",
      " |      \n",
      " |      Args:\n",
      " |          endpoint_name (str): Name of the Amazon SageMaker endpoint to which\n",
      " |              requests are sent.\n",
      " |          sagemaker_session (sagemaker.session.Session): A SageMaker Session\n",
      " |              object, used for SageMaker interactions (default: None). If not\n",
      " |              specified, one is created using the default AWS configuration\n",
      " |              chain.\n",
      " |          serializer (:class:`~sagemaker.serializers.BaseSerializer`): A\n",
      " |              serializer object, used to encode data for an inference endpoint\n",
      " |              (default: :class:`~sagemaker.serializers.IdentitySerializer`).\n",
      " |          deserializer (:class:`~sagemaker.deserializers.BaseDeserializer`): A\n",
      " |              deserializer object, used to decode data from an inference\n",
      " |              endpoint (default: :class:`~sagemaker.deserializers.BytesDeserializer`).\n",
      " |  \n",
      " |  delete_endpoint(self, delete_endpoint_config=True)\n",
      " |      Delete the Amazon SageMaker endpoint backing this predictor.\n",
      " |      \n",
      " |      This also delete the endpoint configuration attached to it if\n",
      " |      delete_endpoint_config is True.\n",
      " |      \n",
      " |      Args:\n",
      " |          delete_endpoint_config (bool, optional): Flag to indicate whether to\n",
      " |              delete endpoint configuration together with endpoint. Defaults\n",
      " |              to True. If True, both endpoint and endpoint configuration will\n",
      " |              be deleted. If False, only endpoint will be deleted.\n",
      " |  \n",
      " |  delete_model(self)\n",
      " |      Deletes the Amazon SageMaker models backing this predictor.\n",
      " |  \n",
      " |  delete_predictor = delete_endpoint(self, delete_endpoint_config=True)\n",
      " |  \n",
      " |  disable_data_capture(self)\n",
      " |      Disables data capture by updating DataCaptureConfig.\n",
      " |      \n",
      " |      This function updates the DataCaptureConfig for the Predictor's associated Amazon SageMaker\n",
      " |      Endpoint to disable data capture. For a more customized experience, refer to\n",
      " |      update_data_capture_config, instead.\n",
      " |  \n",
      " |  enable_data_capture(self)\n",
      " |      Enables data capture by updating DataCaptureConfig.\n",
      " |      \n",
      " |      This function updates the DataCaptureConfig for the Predictor's associated Amazon SageMaker\n",
      " |      Endpoint to enable data capture. For a more customized experience, refer to\n",
      " |      update_data_capture_config, instead.\n",
      " |  \n",
      " |  endpoint_context(self)\n",
      " |      Retrieves the lineage context object representing the endpoint.\n",
      " |      \n",
      " |      Examples:\n",
      " |          .. code-block:: python\n",
      " |      \n",
      " |          predictor = Predictor()\n",
      " |          ...\n",
      " |          context = predictor.endpoint_context()\n",
      " |          models = context.models()\n",
      " |      \n",
      " |      Returns:\n",
      " |          ContextEndpoint: The context for the endpoint.\n",
      " |  \n",
      " |  list_monitors(self)\n",
      " |      Generates ModelMonitor objects (or DefaultModelMonitors).\n",
      " |      \n",
      " |      Objects are generated based on the schedule(s) associated with the endpoint\n",
      " |      that this predictor refers to.\n",
      " |      \n",
      " |      Returns:\n",
      " |          [sagemaker.model_monitor.model_monitoring.ModelMonitor]: A list of\n",
      " |              ModelMonitor (or DefaultModelMonitor) objects.\n",
      " |  \n",
      " |  predict(self, data, initial_args=None, target_model=None, target_variant=None, inference_id=None)\n",
      " |      Return the inference from the specified endpoint.\n",
      " |      \n",
      " |      Args:\n",
      " |          data (object): Input data for which you want the model to provide\n",
      " |              inference. If a serializer was specified when creating the\n",
      " |              Predictor, the result of the serializer is sent as input\n",
      " |              data. Otherwise the data must be sequence of bytes, and the\n",
      " |              predict method then sends the bytes in the request body as is.\n",
      " |          initial_args (dict[str,str]): Optional. Default arguments for boto3\n",
      " |              ``invoke_endpoint`` call. Default is None (no default\n",
      " |              arguments).\n",
      " |          target_model (str): S3 model artifact path to run an inference request on,\n",
      " |              in case of a multi model endpoint. Does not apply to endpoints hosting\n",
      " |              single model (Default: None)\n",
      " |          target_variant (str): The name of the production variant to run an inference\n",
      " |              request on (Default: None). Note that the ProductionVariant identifies the\n",
      " |              model you want to host and the resources you want to deploy for hosting it.\n",
      " |          inference_id (str): If you provide a value, it is added to the captured data\n",
      " |              when you enable data capture on the endpoint (Default: None).\n",
      " |      \n",
      " |      Returns:\n",
      " |          object: Inference for the given input. If a deserializer was specified when creating\n",
      " |              the Predictor, the result of the deserializer is\n",
      " |              returned. Otherwise the response returns the sequence of bytes\n",
      " |              as is.\n",
      " |  \n",
      " |  update_data_capture_config(self, data_capture_config)\n",
      " |      Updates the DataCaptureConfig for the Predictor's associated Amazon SageMaker Endpoint.\n",
      " |      \n",
      " |      Update is done using the provided DataCaptureConfig.\n",
      " |      \n",
      " |      Args:\n",
      " |          data_capture_config (sagemaker.model_monitor.DataCaptureConfig): The\n",
      " |              DataCaptureConfig to update the predictor's endpoint to use.\n",
      " |  \n",
      " |  update_endpoint(self, initial_instance_count=None, instance_type=None, accelerator_type=None, model_name=None, tags=None, kms_key=None, data_capture_config_dict=None, wait=True)\n",
      " |      Update the existing endpoint with the provided attributes.\n",
      " |      \n",
      " |      This creates a new EndpointConfig in the process. If ``initial_instance_count``,\n",
      " |      ``instance_type``, ``accelerator_type``, or ``model_name`` is specified, then a new\n",
      " |      ProductionVariant configuration is created; values from the existing configuration\n",
      " |      are not preserved if any of those parameters are specified.\n",
      " |      \n",
      " |      Args:\n",
      " |          initial_instance_count (int): The initial number of instances to run in the endpoint.\n",
      " |              This is required if ``instance_type``, ``accelerator_type``, or ``model_name`` is\n",
      " |              specified. Otherwise, the values from the existing endpoint configuration's\n",
      " |              ProductionVariants are used.\n",
      " |          instance_type (str): The EC2 instance type to deploy the endpoint to.\n",
      " |              This is required if ``initial_instance_count`` or ``accelerator_type`` is specified.\n",
      " |              Otherwise, the values from the existing endpoint configuration's\n",
      " |              ``ProductionVariants`` are used.\n",
      " |          accelerator_type (str): The type of Elastic Inference accelerator to attach to\n",
      " |              the endpoint, e.g. \"ml.eia1.medium\". If not specified, and\n",
      " |              ``initial_instance_count``, ``instance_type``, and ``model_name`` are also ``None``,\n",
      " |              the values from the existing endpoint configuration's ``ProductionVariants`` are\n",
      " |              used. Otherwise, no Elastic Inference accelerator is attached to the endpoint.\n",
      " |          model_name (str): The name of the model to be associated with the endpoint.\n",
      " |              This is required if ``initial_instance_count``, ``instance_type``, or\n",
      " |              ``accelerator_type`` is specified and if there is more than one model associated\n",
      " |              with the endpoint. Otherwise, the existing model for the endpoint is used.\n",
      " |          tags (list[dict[str, str]]): The list of tags to add to the endpoint\n",
      " |              config. If not specified, the tags of the existing endpoint configuration are used.\n",
      " |              If any of the existing tags are reserved AWS ones (i.e. begin with \"aws\"),\n",
      " |              they are not carried over to the new endpoint configuration.\n",
      " |          kms_key (str): The KMS key that is used to encrypt the data on the storage volume\n",
      " |              attached to the instance hosting the endpoint If not specified,\n",
      " |              the KMS key of the existing endpoint configuration is used.\n",
      " |          data_capture_config_dict (dict): The endpoint data capture configuration\n",
      " |              for use with Amazon SageMaker Model Monitoring. If not specified,\n",
      " |              the data capture configuration of the existing endpoint configuration is used.\n",
      " |      \n",
      " |      Raises:\n",
      " |          ValueError: If there is not enough information to create a new ``ProductionVariant``:\n",
      " |      \n",
      " |              - If ``initial_instance_count``, ``accelerator_type``, or ``model_name`` is\n",
      " |                specified, but ``instance_type`` is ``None``.\n",
      " |              - If ``initial_instance_count``, ``instance_type``, or ``accelerator_type`` is\n",
      " |                specified and either ``model_name`` is ``None`` or there are multiple models\n",
      " |                associated with the endpoint.\n",
      " |  \n",
      " |  ----------------------------------------------------------------------\n",
      " |  Data descriptors defined here:\n",
      " |  \n",
      " |  accept\n",
      " |      The content type(s) that are expected from the inference endpoint.\n",
      " |  \n",
      " |  content_type\n",
      " |      The MIME type of the data sent to the inference endpoint.\n",
      " |  \n",
      " |  endpoint\n",
      " |      Deprecated attribute. Please use endpoint_name.\n",
      " |  \n",
      " |  ----------------------------------------------------------------------\n",
      " |  Data and other attributes defined here:\n",
      " |  \n",
      " |  __abstractmethods__ = frozenset()\n",
      " |  \n",
      " |  ----------------------------------------------------------------------\n",
      " |  Data descriptors inherited from PredictorBase:\n",
      " |  \n",
      " |  __dict__\n",
      " |      dictionary for instance variables (if defined)\n",
      " |  \n",
      " |  __weakref__\n",
      " |      list of weak references to the object (if defined)\n",
      "\n"
     ]
    }
   ],
   "source": [
    "help(predictor)"
   ]
  },
  {
   "cell_type": "markdown",
   "metadata": {},
   "source": [
    "In the code snippet below we are going to prepare one of your saved images for prediction. Use the predictor to process the `payload`."
   ]
  },
  {
   "cell_type": "code",
   "execution_count": 125,
   "metadata": {},
   "outputs": [],
   "source": [
    "from sagemaker.serializers import IdentitySerializer\n",
    "import base64\n",
    "\n",
    "predictor.serializer = IdentitySerializer(\"image/png\")\n",
    "with open(\"./test/bicycle_s_001789.png\", \"rb\") as f:\n",
    "    payload = f.read()\n",
    "\n",
    "    \n",
    "inference = predictor.predict(payload)## TODO: Process the payload with your predictor"
   ]
  },
  {
   "cell_type": "markdown",
   "metadata": {},
   "source": [
    "Your `inference` object is an array of two values, the predicted probability value for each of your classes (bicycle and motorcycle respectively.) So, for example, a value of `b'[0.91, 0.09]'` indicates the probability of being a bike is 91% and being a motorcycle is 9%."
   ]
  },
  {
   "cell_type": "code",
   "execution_count": 126,
   "metadata": {},
   "outputs": [
    {
     "name": "stdout",
     "output_type": "stream",
     "text": [
      "b'[0.9990625977516174, 0.0009373637149110436]'\n"
     ]
    }
   ],
   "source": [
    "print(inference)"
   ]
  },
  {
   "cell_type": "markdown",
   "metadata": {},
   "source": [
    "### Draft Lambdas and Step Function Workflow\n",
    "\n",
    "Your operations team uses Step Functions to orchestrate serverless workflows. One of the nice things about Step Functions is that [workflows can call other workflows](https://docs.aws.amazon.com/step-functions/latest/dg/connect-stepfunctions.html), so the team can easily plug your workflow into the broader production architecture for Scones Unlimited.\n",
    "\n",
    "In this next stage you're going to write and deploy three Lambda functions, and then use the Step Functions visual editor to chain them together! Our functions are going to work with a simple data object:\n",
    "\n",
    "```python\n",
    "{\n",
    "    \"inferences\": [], # Output of predictor.predict\n",
    "    \"s3_key\": \"\", # Source data S3 key\n",
    "    \"s3_bucket\": \"\", # Source data S3 bucket\n",
    "    \"image_data\": \"\"  # base64 encoded string containing the image data\n",
    "}\n",
    "```\n",
    "\n",
    "A good test object that you can use for Lambda tests and Step Function executions, throughout the next section, might look like this:\n",
    "\n",
    "```python\n",
    "{\n",
    "  \"image_data\": \"\",\n",
    "  \"s3_bucket\": MY_BUCKET_NAME, # Fill in with your bucket\n",
    "  \"s3_key\": \"test/bicycle_s_000513.png\"\n",
    "}\n",
    "```\n",
    "\n",
    "Using these fields, your functions can read and write the necessary data to execute your workflow. Let's start with the first function. Your first Lambda function will copy an object from S3, base64 encode it, and then return it to the step function as `image_data` in an event.\n",
    "\n",
    "Go to the Lambda dashboard and create a new Lambda function with a descriptive name like \"serializeImageData\" and select thr 'Python 3.8' runtime. Add the same permissions as the SageMaker role you created earlier. (Reminder: you do this in the Configuration tab under \"Permissions\"). Once you're ready, use the starter code below to craft your Lambda handler:\n",
    "\n",
    "```python\n",
    "import json\n",
    "import boto3\n",
    "import base64\n",
    "\n",
    "s3 = boto3.client('s3')\n",
    "\n",
    "def lambda_handler(event, context):\n",
    "    \"\"\"A function to serialize target data from S3\"\"\"\n",
    "    \n",
    "    # Get the s3 address from the Step Function event input\n",
    "    key = ## TODO: fill in\n",
    "    bucket = ## TODO: fill in\n",
    "    \n",
    "    # Download the data from s3 to /tmp/image.png\n",
    "    ## TODO: fill in\n",
    "    \n",
    "    # We read the data from a file\n",
    "    with open(\"/tmp/image.png\", \"rb\") as f:\n",
    "        image_data = base64.b64encode(f.read())\n",
    "\n",
    "    # Pass the data back to the Step Function\n",
    "    print(\"Event:\", event.keys())\n",
    "    return {\n",
    "        'statusCode': 200,\n",
    "        'body': {\n",
    "            \"image_data\": image_data,\n",
    "            \"s3_bucket\": bucket,\n",
    "            \"s3_key\": key,\n",
    "            \"inferences\": []\n",
    "        }\n",
    "    }\n",
    "```\n",
    "\n",
    "The next function is responsible for the classification part - we're going to take the image output from the previous function, decode it, and then pass inferences back to the the Step Function.\n",
    "\n",
    "Because this Lambda will have runtime dependencies (i.e. the SageMaker SDK) you'll need to package them in your function. *Key reading:* https://docs.aws.amazon.com/lambda/latest/dg/python-package-create.html#python-package-create-with-dependency\n",
    "\n",
    "Create a new Lambda function with the same rights and a descriptive name, then fill in the starter code below for your classifier Lambda.\n",
    "\n",
    "```python\n",
    "import json\n",
    "import sagemaker\n",
    "import base64\n",
    "from sagemaker.serializers import IdentitySerializer\n",
    "\n",
    "# Fill this in with the name of your deployed model\n",
    "ENDPOINT = ## TODO: fill in\n",
    "\n",
    "def lambda_handler(event, context):\n",
    "\n",
    "    # Decode the image data\n",
    "    image = base64.b64decode(## TODO: fill in)\n",
    "\n",
    "    # Instantiate a Predictor\n",
    "    predictor = ## TODO: fill in\n",
    "\n",
    "    # For this model the IdentitySerializer needs to be \"image/png\"\n",
    "    predictor.serializer = IdentitySerializer(\"image/png\")\n",
    "    \n",
    "    # Make a prediction:\n",
    "    inferences = ## TODO: fill in\n",
    "    \n",
    "    # We return the data back to the Step Function    \n",
    "    event[\"inferences\"] = inferences.decode('utf-8')\n",
    "    return {\n",
    "        'statusCode': 200,\n",
    "        'body': json.dumps(event)\n",
    "    }\n",
    "```\n",
    "\n",
    "Finally, we need to filter low-confidence inferences. Define a threshold between 1.00 and 0.000 for your model: what is reasonble for you? If the model predicts at `.70` for it's highest confidence label, do we want to pass that inference along to downstream systems? Make one last Lambda function and tee up the same permissions:\n",
    "\n",
    "```python\n",
    "import json\n",
    "\n",
    "\n",
    "THRESHOLD = .93\n",
    "\n",
    "\n",
    "def lambda_handler(event, context):\n",
    "    \n",
    "    # Grab the inferences from the event\n",
    "    inferences = ## TODO: fill in\n",
    "    \n",
    "    # Check if any values in our inferences are above THRESHOLD\n",
    "    meets_threshold = ## TODO: fill in\n",
    "    \n",
    "    # If our threshold is met, pass our data back out of the\n",
    "    # Step Function, else, end the Step Function with an error\n",
    "    if meets_threshold:\n",
    "        pass\n",
    "    else:\n",
    "        raise(\"THRESHOLD_CONFIDENCE_NOT_MET\")\n",
    "\n",
    "    return {\n",
    "        'statusCode': 200,\n",
    "        'body': json.dumps(event)\n",
    "    }\n",
    "```\n",
    "Once you have tested the lambda functions, save the code for each lambda function in a python script called 'lambda.py'.\n",
    "\n",
    "With your lambdas in place, you can use the Step Functions visual editor to construct a workflow that chains them together. In the Step Functions console you'll have the option to author a Standard step function *Visually*.\n",
    "\n",
    "When the visual editor opens, you'll have many options to add transitions in your workflow. We're going to keep it simple and have just one: to invoke Lambda functions. Add three of them chained together. For each one, you'll be able to select the Lambda functions you just created in the proper order, filter inputs and outputs, and give them descriptive names.\n",
    "\n",
    "Make sure that you:\n",
    "\n",
    "1. Are properly filtering the inputs and outputs of your invokations (e.g. `$.body`)\n",
    "2. Take care to remove the error handling from the last function - it's supposed to \"fail loudly\" for your operations colleagues!\n",
    "\n",
    "Take a screenshot of your working step function in action and export the step function as JSON for your submission package."
   ]
  },
  {
   "cell_type": "markdown",
   "metadata": {},
   "source": [
    "\n",
    "Great! Now you can use the files in `./test` as test files for our workflow. Depending on our threshold, our workflow should reliably pass predictions about images from `./test` on to downstream systems, while erroring out for inferences below our confidence threshold!\n",
    "\n",
    "### Testing and Evaluation\n",
    "\n",
    "Do several step function invokations using data from the `./test` folder. This process should give you confidence that the workflow both *succeeds* AND *fails* as expected. In addition, SageMaker Model Monitor will generate recordings of your data and inferences which we can visualize.\n",
    "\n",
    "Here's a function that can help you generate test inputs for your invokations:"
   ]
  },
  {
   "cell_type": "code",
   "execution_count": null,
   "metadata": {},
   "outputs": [],
   "source": [
    "import random\n",
    "import boto3\n",
    "import json\n",
    "\n",
    "\n",
    "def generate_test_case():\n",
    "    # Setup s3 in boto3\n",
    "    s3 = boto3.resource('s3')\n",
    "    \n",
    "    # Randomly pick from sfn or test folders in our bucket\n",
    "    objects = s3.Bucket(bucket).objects.filter(\"test\")\n",
    "    \n",
    "    # Grab any random object key from that folder!\n",
    "    obj = random.choice([x.key for x in objects])\n",
    "    \n",
    "    return json.dumps({\n",
    "        \"image_data\": \"\",\n",
    "        \"s3_bucket\": bucket,\n",
    "        \"s3_key\": obj\n",
    "    })\n",
    "generate_test_case()"
   ]
  },
  {
   "cell_type": "markdown",
   "metadata": {},
   "source": [
    "In the Step Function dashboard for your new function, you can create new executions and copy in the generated test cases. Do several executions so that you can generate data you can evaluate and visualize.\n",
    "\n",
    "Once you've done several executions, let's visualize the record of our inferences. Pull in the JSONLines data from your inferences like so:"
   ]
  },
  {
   "cell_type": "code",
   "execution_count": null,
   "metadata": {},
   "outputs": [],
   "source": [
    "from sagemaker.s3 import S3Downloader\n",
    "\n",
    "# In S3 your data will be saved to a datetime-aware path\n",
    "# Find a path related to a datetime you're interested in\n",
    "data_path = ## TODO: fill in the path to your captured data\n",
    "\n",
    "S3Downloader.download(data_path, \"captured_data\")\n",
    "\n",
    "# Feel free to repeat this multiple times and pull in more data"
   ]
  },
  {
   "cell_type": "markdown",
   "metadata": {},
   "source": [
    "The data are in JSONLines format, where multiple valid JSON objects are stacked on top of eachother in a single `jsonl` file. We'll import an open-source library, `jsonlines` that was purpose built for parsing this format."
   ]
  },
  {
   "cell_type": "code",
   "execution_count": null,
   "metadata": {},
   "outputs": [],
   "source": [
    "!pip install jsonlines\n",
    "import jsonlines"
   ]
  },
  {
   "cell_type": "markdown",
   "metadata": {},
   "source": [
    "Now we can extract the data from each of the source files:"
   ]
  },
  {
   "cell_type": "code",
   "execution_count": null,
   "metadata": {},
   "outputs": [],
   "source": [
    "import os\n",
    "\n",
    "# List the file names we downloaded\n",
    "file_handles = os.listdir(\"./captured_data\")\n",
    "\n",
    "# Dump all the data into an array\n",
    "json_data = []\n",
    "for jsonl in file_handles:\n",
    "    with jsonlines.open(f\"./captured_data/{jsonl}\") as f:\n",
    "        json_data.append(f.read())"
   ]
  },
  {
   "cell_type": "markdown",
   "metadata": {},
   "source": [
    "The data should now be a list of dictionaries, with significant nesting. We'll give you an example of some code that grabs data out of the objects and visualizes it:"
   ]
  },
  {
   "cell_type": "code",
   "execution_count": null,
   "metadata": {},
   "outputs": [],
   "source": [
    "# Define how we'll get our data\n",
    "def simple_getter(obj):\n",
    "    inferences = obj[\"captureData\"][\"endpointOutput\"][\"data\"]\n",
    "    timestamp = obj[\"eventMetadata\"][\"inferenceTime\"]\n",
    "    return json.loads(inferences), timestamp\n",
    "\n",
    "simple_getter(json_data[0])"
   ]
  },
  {
   "cell_type": "markdown",
   "metadata": {},
   "source": [
    "Finally, here's an example of a visualization you can build with this data. In this last part, you will take some time and build your own - the captured data has the input images, the resulting inferences, and the timestamps."
   ]
  },
  {
   "cell_type": "code",
   "execution_count": null,
   "metadata": {},
   "outputs": [],
   "source": [
    "# Populate the data for the x and y axis\n",
    "x = []\n",
    "y = []\n",
    "for obj in json_data:\n",
    "    inference, timestamp = simple_getter(obj)\n",
    "    \n",
    "    y.append(max(inference))\n",
    "    x.append(timestamp)\n",
    "\n",
    "# Todo: here is an visualization example, take some time to build another visual that helps monitor the result\n",
    "# Plot the data\n",
    "plt.scatter(x, y, c=['r' if k<.94 else 'b' for k in y ])\n",
    "plt.axhline(y=0.94, color='g', linestyle='--')\n",
    "plt.ylim(bottom=.88)\n",
    "\n",
    "# Add labels\n",
    "plt.ylabel(\"Confidence\")\n",
    "plt.suptitle(\"Observed Recent Inferences\", size=14)\n",
    "plt.title(\"Pictured with confidence threshold for production use\", size=10)\n",
    "\n",
    "# Give it some pizzaz!\n",
    "plt.style.use(\"Solarize_Light2\")\n",
    "plt.gcf().autofmt_xdate()"
   ]
  },
  {
   "cell_type": "markdown",
   "metadata": {},
   "source": [
    "### Todo: build your own visualization\n"
   ]
  },
  {
   "cell_type": "markdown",
   "metadata": {},
   "source": [
    "### Congratulations!\n",
    "\n",
    "You've reached the end of the project. In this project you created an event-drivent ML workflow that can be incorporated into the Scones Unlimited production architecture. You used the SageMaker Estimator API to deploy your SageMaker Model and Endpoint, and you used AWS Lambda and Step Functions to orchestrate your ML workflow. Using SageMaker Model Monitor, you instrumented and observed your Endpoint, and at the end of the project you built a visualization to help stakeholders understand the performance of the Endpoint over time. If you're up for it, you can even go further with these stretch goals:\n",
    "\n",
    "* Extend your workflow to incorporate more classes: the CIFAR dataset includes other vehicles that Scones Unlimited can identify with this model.\n",
    "* Modify your event driven workflow: can you rewrite your Lambda functions so that the workflow can process multiple image inputs in parallel? Can the Step Function \"fan out\" to accomodate this new workflow?\n",
    "* Consider the test data generator we provided for you. Can we use it to create a \"dummy data\" generator, to simulate a continuous stream of input data? Or a big paralell load of data?\n",
    "* What if we want to get notified every time our step function errors out? Can we use the Step Functions visual editor in conjunction with a service like SNS to accomplish this? Try it out!\n",
    "\n",
    "\n"
   ]
  }
 ],
 "metadata": {
  "instance_type": "ml.t3.medium",
  "kernelspec": {
   "display_name": "Python 3 (Data Science)",
   "language": "python",
   "name": "python3__SAGEMAKER_INTERNAL__arn:aws:sagemaker:us-east-1:081325390199:image/datascience-1.0"
  },
  "language_info": {
   "codemirror_mode": {
    "name": "ipython",
    "version": 3
   },
   "file_extension": ".py",
   "mimetype": "text/x-python",
   "name": "python",
   "nbconvert_exporter": "python",
   "pygments_lexer": "ipython3",
   "version": "3.7.10"
  }
 },
 "nbformat": 4,
 "nbformat_minor": 4
}
